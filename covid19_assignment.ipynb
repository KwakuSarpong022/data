{
  "nbformat": 4,
  "nbformat_minor": 0,
  "metadata": {
    "colab": {
      "provenance": [],
      "include_colab_link": true
    },
    "kernelspec": {
      "name": "python3",
      "display_name": "Python 3"
    }
  },
  "cells": [
    {
      "cell_type": "markdown",
      "metadata": {
        "id": "view-in-github",
        "colab_type": "text"
      },
      "source": [
        "<a href=\"https://colab.research.google.com/github/KwakuSarpong022/data/blob/master/covid19_assignment.ipynb\" target=\"_parent\"><img src=\"https://colab.research.google.com/assets/colab-badge.svg\" alt=\"Open In Colab\"/></a>"
      ]
    },
    {
      "cell_type": "markdown",
      "metadata": {
        "id": "zhLg6kEh5lXR"
      },
      "source": [
        "# Tracking the COVID-19 Epidemic\n",
        "## CSE-1010 Data Science Homework\n",
        "\n",
        "### Introduction\n",
        "\n",
        "[Coronavirus disease 2019 (or COVID-19)](https://www.cdc.gov/coronavirus/2019-ncov/downloads/2019-ncov-factsheet.pdf) is a highly contagious respiratory disease caused by a novel coronavirus. It is rapidly spreading across the globe and is being tracked by a variety of sources. In this assignment, your task is to use your programming and data science knowledge to explore COVID-19 data and answer several hypotheses.\n",
        "\n",
        "### Data\n",
        "\n",
        "The data we will be using is the [Novel Corona Virus 2019 Dataset](https://github.com/beoutbreakprepared/nCoV2019/tree/master/latest_data).\n",
        "\n",
        "### Hypotheses\n",
        "\n",
        "* Incidence of COVID-19 differs by sex.\n",
        "\n",
        "* Are mortality rates correlated with age?\n",
        "\n",
        "* Are reported cases of COVID-19 more prevalent in colder climates?\n",
        "\n",
        "\n",
        "First, we install packages into the Google Colaboratory virtual machine."
      ]
    },
    {
      "cell_type": "code",
      "metadata": {
        "id": "yi1QFeBdx09Z"
      },
      "source": [
        "# install packages\n",
        "!apt-get install libgeos-dev\n",
        "!pip install pyproj==1.9.6\n",
        "!pip uninstall -y shapely\n",
        "!pip install shapely --no-binary shapely\n",
        "!pip install cartopy\n",
        "%matplotlib inline"
      ],
      "execution_count": null,
      "outputs": []
    },
    {
      "cell_type": "markdown",
      "metadata": {
        "id": "5V5Bw6rZnhG0"
      },
      "source": [
        "Next, we import the libraries that we will need for this analysis."
      ]
    },
    {
      "cell_type": "code",
      "metadata": {
        "id": "cxqTR9ql2fTA"
      },
      "source": [
        "# import libraries\n",
        "import cartopy.crs as ccrs\n",
        "import cartopy.feature as cfeature\n",
        "import pandas as pd\n",
        "import numpy as np\n",
        "import matplotlib.pyplot as plt\n",
        "import requests\n",
        "from io import StringIO\n",
        "\n",
        "# For improved table display in the notebook\n",
        "from IPython.display import display\n",
        "\n",
        "# set printing options for pandas\n",
        "pd.set_option('max_rows', 2000)"
      ],
      "execution_count": null,
      "outputs": []
    },
    {
      "cell_type": "markdown",
      "metadata": {
        "id": "zMtvUXDNnp2r"
      },
      "source": [
        "The first step in our data science model in the week 9 lectures, is to collect or identify data. I have provided for you a direct link to the COVID-19 data on Google drive. We can access it by treating the file as a StringIO object and passing that into the pandas ```read_csv()``` function."
      ]
    },
    {
      "cell_type": "code",
      "metadata": {
        "id": "vRAkMWdSKqp0"
      },
      "source": [
        "data_url = requests.get('https://drive.google.com/uc?export=download&id=1pRnqYs1nuBEbwUJAuQApmyWETSYEVWDy')\n",
        "csv_raw = StringIO(data_url.text)\n",
        "covid19_data = pd.read_csv(csv_raw,low_memory=False)"
      ],
      "execution_count": null,
      "outputs": []
    },
    {
      "cell_type": "markdown",
      "metadata": {
        "id": "wWE7xS7FVCjc"
      },
      "source": [
        "We first describe how to extract elements from a pandas data frame."
      ]
    },
    {
      "cell_type": "code",
      "metadata": {
        "id": "YsXNi5EgVJzJ"
      },
      "source": [
        "# You can extract values from a data frame in many different ways.\n",
        "# To retrieve a column we can use   df[colname]\n",
        "print(covid19_data['country'].head(n=3)) # here we use head simply to suppress the large amount of output\n",
        "\n",
        "# We can also use this syntax\n",
        "print(covid19_data.country.head(n=3))\n",
        "\n",
        "# or pass a list to get multiple columns\n",
        "print(covid19_data[['country','province']].head(n=3))\n",
        "\n",
        "#.loc() can be used to set a range of rows and/or columns (by name)\n",
        "print(covid19_data.loc[10:15,['country','province']])\n",
        "\n",
        "#.iloc() can be used to set a range of rows and/or columns (by index)\n",
        "print(covid19_data.iloc[10:15,0:4])"
      ],
      "execution_count": null,
      "outputs": []
    },
    {
      "cell_type": "markdown",
      "metadata": {
        "id": "1QNYPASEcuzp"
      },
      "source": [
        "## Exploratory Data Analysis\n",
        "\n",
        "After we've loaded in the data, the second step in our data science model is to clean and prepare the data. But, in order to do that, we should try to understand it first.\n",
        "\n",
        "**Problem 1)**\n",
        "\n",
        "* Write a function named ```rows_and_columns``` that takes in a pandas data frame and returns the string:\n",
        "\n",
        "  The data has X rows and Y columns.\n",
        "\n",
        "  where X is the number of rows and Y is the number of columns. For example, if the data frame has 100 rows and 10 columns, the function should return the string:\n",
        "\n",
        "  The data has 100 rows and 10 columns.\n",
        "\n",
        "* Write a function named ```get_min_max``` that takes in a pandas data frame and a column name as a string, and returns the minimum and maximum value of that column in a tuple\n",
        "\n",
        "* Write a function named ```odd_get_min_max``` that takes in a pandas data frame and a column name as a string, and returns the minimum and maximum values for the odd rows and that column in a tuple\n"
      ]
    },
    {
      "cell_type": "code",
      "metadata": {
        "id": "JjSgkfzVtPO1"
      },
      "source": [
        "# Problem 1) write your first function here\n",
        "\n",
        "# Problem 1) write your second function here\n",
        "\n",
        "# Problem 1) write your third function here\n"
      ],
      "execution_count": null,
      "outputs": []
    },
    {
      "cell_type": "markdown",
      "metadata": {
        "id": "E3UI-GRyVL-s"
      },
      "source": [
        "And we can test our functions!"
      ]
    },
    {
      "cell_type": "code",
      "metadata": {
        "id": "xIwijzl-VNcq"
      },
      "source": [
        "# here we call your functions\n",
        "print(rows_and_columns(covid19_data))\n",
        "\n",
        "print(get_min_max(covid19_data,'latitude'))\n",
        "\n",
        "print(odd_get_min_max(covid19_data,'latitude'))"
      ],
      "execution_count": null,
      "outputs": []
    },
    {
      "cell_type": "markdown",
      "metadata": {
        "id": "1EvFI0Eg_JJk"
      },
      "source": [
        "To get a sense of the data, let's view the column names and a sample of the data."
      ]
    },
    {
      "cell_type": "code",
      "metadata": {
        "id": "HejZzBTDV8Fz"
      },
      "source": [
        "print(covid19_data.columns)\n",
        "print(covid19_data.head())"
      ],
      "execution_count": null,
      "outputs": []
    },
    {
      "cell_type": "markdown",
      "metadata": {
        "id": "k0pMlNdA_b33"
      },
      "source": [
        "The data contain information on where the individual was diagnosed, how old they are, when they were diagnosed, and various other information. But simply looking at the column names and first few rows does not give us too much information. The dataframe ```info()``` function is a great way to get a summary of the input data."
      ]
    },
    {
      "cell_type": "code",
      "metadata": {
        "id": "m4GlGTqFa3kH"
      },
      "source": [
        "covid19_data.info()"
      ],
      "execution_count": null,
      "outputs": []
    },
    {
      "cell_type": "markdown",
      "metadata": {
        "id": "hMlBSSjFARJw"
      },
      "source": [
        "```info()``` shows us that most columns have significantly high levels of missing data. Typically, columns with high levels of missing data are removed or imputed. Here, we will ignore the missing data. The ```describe()``` function is more useful when you have numerical data, but it still provides useful information on how our data are distributed."
      ]
    },
    {
      "cell_type": "code",
      "metadata": {
        "id": "URbdXFxDvbvg"
      },
      "source": [
        "covid19_data.describe(include=\"all\")"
      ],
      "execution_count": null,
      "outputs": []
    },
    {
      "cell_type": "markdown",
      "metadata": {
        "id": "lD-VEjk2taxP"
      },
      "source": [
        "In the absence of documentation, the values in the data allow us to interpret the data columns.\n",
        "\n",
        "#### Data Cleaning and Wrangling\n",
        "\n",
        "The data are messy. Various parties have contibuted to the dataset without following a consistent formatting for the columns. If we are interested in questions about age, for example, we need to clean the age column. First, let's visualize the age column data by counting the unique fields.\n",
        "\n",
        "**Problem 2)** Write a function named \"get_uniq\" that takes in a pandas data frame and a column name, and returns a numpy ndarray containing the unique values in that column.\n",
        "\n",
        "*Hint: use the DataSeries.unique() function: https://pandas.pydata.org/pandas-docs/stable/reference/series.html*\n"
      ]
    },
    {
      "cell_type": "code",
      "metadata": {
        "id": "YPBKtKEWqZnM"
      },
      "source": [
        "# Problem 2) write your function here\n"
      ],
      "execution_count": null,
      "outputs": []
    },
    {
      "cell_type": "markdown",
      "metadata": {
        "id": "PSJ-ksuksTvK"
      },
      "source": [
        "Let's use your function to print out the unique elements in the age column."
      ]
    },
    {
      "cell_type": "code",
      "metadata": {
        "id": "W0mPduaYBIxK"
      },
      "source": [
        "print(get_uniq(covid19_data,'age'))"
      ],
      "execution_count": null,
      "outputs": []
    },
    {
      "cell_type": "markdown",
      "metadata": {
        "id": "xj1inDfTsbTI"
      },
      "source": [
        "We can also compute the counts for each of the unique elements. Pandas gives us a handy function to do this: ```value_counts()```. By default, ```value_counts()``` ignores NaN values."
      ]
    },
    {
      "cell_type": "code",
      "metadata": {
        "id": "WYPEi7_Ksccl"
      },
      "source": [
        "print(covid19_data['age'].value_counts())"
      ],
      "execution_count": null,
      "outputs": []
    },
    {
      "cell_type": "markdown",
      "metadata": {
        "id": "0GG9VPins9oP"
      },
      "source": [
        "**Problem 3)** Define a function named \"unique_nonNaN_cnt\" that takes a pandas data frame, a column name as a string, and returns the number of unique non-NaN values. You can think about this as either counting the non-NaN values *or* summing up the unique non-NaN values from the ```value_counts()``` method."
      ]
    },
    {
      "cell_type": "code",
      "metadata": {
        "id": "mco_ctc3s_wF"
      },
      "source": [
        "# Problem 3) write your function here\n"
      ],
      "execution_count": null,
      "outputs": []
    },
    {
      "cell_type": "markdown",
      "metadata": {
        "id": "fR6k6gYoU0o7"
      },
      "source": [
        "and test our function..."
      ]
    },
    {
      "cell_type": "code",
      "metadata": {
        "id": "JjEqLVmMU20l"
      },
      "source": [
        "print(\"Total of \" + str(unique_nonNaN_cnt(covid19_data,'age')) + \" non-NaN age entries.\")"
      ],
      "execution_count": null,
      "outputs": []
    },
    {
      "cell_type": "markdown",
      "metadata": {
        "id": "Lvobvji1FNuN"
      },
      "source": [
        "It's clear that the individuals entering the data were not following the same standard or format! We will need to clean this data before we can use it.\n",
        "\n",
        "There is a large amount of missing data, and a large variety of entries. We should clean the age columns. Let's convert the ages to age ranges for plotting. For the existing ranges in the data, let's consider the mean age."
      ]
    },
    {
      "cell_type": "code",
      "metadata": {
        "id": "XLtcNzBduXQV"
      },
      "source": [
        "# cleaning the age column\n",
        "# We observe that the age column does not follow a nice format\n",
        "\n",
        "# defining the age ranges\n",
        "age_ranges = []\n",
        "for age in range(0,100,10):\n",
        "  age_ranges.append((age,age+10))\n",
        "print(\"Considering age ranges\",age_ranges)\n",
        "\n",
        "# helper function that takes in an numerical age, and a list of ranges and\n",
        "# returns the particular range that the age falls into\n",
        "def findRange(age,arange):\n",
        "  for ager in arange:\n",
        "    if age >= ager[0] and age < ager[1]:\n",
        "      return str(ager[0])+\"-\"+str(ager[1])\n",
        "\n",
        "# a function that will fix our age entries\n",
        "def fixAge(age):\n",
        "  if isinstance(age, str): # check if the age is a string\n",
        "    if 'weeks' in age:\n",
        "      age = age.replace('weeks','')\n",
        "      age = str(float(age)/52.0)\n",
        "    if '-' in age: # if the string has a hyphen (is a range)\n",
        "      parts = age.split(\"-\")\n",
        "      if len(parts)==1: # if the range was poorly formatted...\n",
        "        return findRange(float(parts[0]),age_ranges)\n",
        "      elif len(parts)==2: # if the range was properly formatted, findRange of the mean\n",
        "        if parts[1]=='':\n",
        "          return findRange(float(parts[0]),age_ranges)\n",
        "        else:\n",
        "          return findRange(np.mean([float(parts[0]),float(parts[1])]),age_ranges)\n",
        "      else:\n",
        "        print(age)\n",
        "        raise InputError(\"Age \" + str(age) + \" not correctly handled.\")\n",
        "    else:\n",
        "        return findRange(float(age),age_ranges)\n",
        "  elif np.isnan(age):\n",
        "    return np.nan\n",
        "  else:\n",
        "    raise InputError(\"Age \" + str(age) + \" not correctly handled.\")\n",
        "\n",
        "# create a new column that holds the new age ranges\n",
        "# this code will run the fixAge function for each row of the covid data frame and\n",
        "# store the result in the newly created 'age_range' column\n",
        "covid19_data['age_range'] = covid19_data.apply(lambda row : fixAge(row['age']), axis = 1)"
      ],
      "execution_count": null,
      "outputs": []
    },
    {
      "cell_type": "markdown",
      "metadata": {
        "id": "kBKx404oOtEj"
      },
      "source": [
        "The ```apply()``` function is very important: https://pandas.pydata.org/pandas-docs/stable/reference/api/pandas.DataFrame.apply.html.  It allows us to apply a function across some data frame axis (e.g. for each row, or each column). It's combined with the ```lambda``` keyword here. ```lambda``` defines an anonymous function (a function without a name). You can use these wherever functions are required, but allow you to define the functionality in a single expression. Let's do some quality control to verify we didn't make any mistakes.\n",
        "\n"
      ]
    },
    {
      "cell_type": "code",
      "metadata": {
        "id": "z5siWDL2bUIK"
      },
      "source": [
        "print(\"the total number of rows with non-NaN ages is \" + str(sum(covid19_data['age'].value_counts())))\n",
        "print(\"the total number of rows with non-NaN age_ranges is \" + str(sum(covid19_data['age_range'].value_counts())))"
      ],
      "execution_count": null,
      "outputs": []
    },
    {
      "cell_type": "markdown",
      "metadata": {
        "id": "aQqt46HsSXIT"
      },
      "source": [
        "The number of non-NaN age_ranges is 1 less, and if we inspect the original data, we can find that one age did not fall in our age ranges of 0-100. This age was 121 and is likely a mistake in entry since the oldest person currently alive is 117 years old, so we can safely discard this outlier.\n",
        "\n",
        "The next step in our data science model is exploratory data analysis. Let's visualize the COVID-19 cases by age group. There are a number of plots we can use here; a bar plot is a good choice."
      ]
    },
    {
      "cell_type": "code",
      "metadata": {
        "id": "xUqtdfMcYsoo"
      },
      "source": [
        "# distribution of cases by age\n",
        "age_range_labels = [str(x[0])+\"-\"+str(x[1]) for x in age_ranges]\n",
        "counts = covid19_data.age_range.value_counts()[age_range_labels]\n",
        "\n",
        "# create plot\n",
        "fig, ax = plt.subplots(figsize=(20, 10))\n",
        "index = np.arange(len(age_ranges))\n",
        "bar_width = 0.35\n",
        "opacity = 0.8\n",
        "\n",
        "# docs are here: https://matplotlib.org/3.2.1/api/_as_gen/matplotlib.pyplot.bar.html\n",
        "rects1 = plt.bar(index, counts, bar_width,alpha=opacity,color='b')\n",
        "\n",
        "plt.xlabel('Age Range')\n",
        "plt.ylabel('Count')\n",
        "plt.title('Corona Cases per Age Group')\n",
        "plt.xticks(index, [\"[\"+str(x[0])+\",\"+str(x[1])+\")\" for x in age_ranges])\n",
        "plt.legend()\n",
        "\n",
        "plt.tight_layout()"
      ],
      "execution_count": null,
      "outputs": []
    },
    {
      "cell_type": "markdown",
      "metadata": {
        "id": "jqMdyuVHySON"
      },
      "source": [
        "Let's address the **incidence of COVID-19 differs by sex** hypothesis we made above. We can make a bar plot stratified by sex.\n",
        "\n",
        "**Problem 4)** Fill in the relevant prompts below to create the bar plot of COVID-19 cases by sex.\n",
        "\n",
        "As a hint, we can select a subset of rows based on the value in a column with the syntax:\n",
        "\n",
        "```dataframe[dataframe[colname]==value]```\n",
        "\n",
        "where dataframe is a pandas data frame, colname is the column name, and value is some value for the colname. You can use other logical comparisons as well, e.g., to get all rows with latitude > 0, we can use the syntax:\n",
        "\n",
        "```covid19_data[covid19_data.latitude>0]```\n",
        "\n",
        "\n"
      ]
    },
    {
      "cell_type": "code",
      "metadata": {
        "id": "tt224ZfEgDwH"
      },
      "source": [
        "# distribution of cases by age and sex\n",
        "# Problem 4) Complete where we have indicated below\n",
        "def create_bar_plot_by_sex(covid19_data, age_ranges):\n",
        "  age_range_labels = [str(x[0])+\"-\"+str(x[1]) for x in age_ranges]\n",
        "  # from the covid19_data, select the age_range for female rows\n",
        "  female_age_ranges =  # problem 4, fill this in\n",
        "  counts_female = female_age_ranges.value_counts()[age_range_labels]\n",
        "\n",
        "  # from the covid19_data, select the age_range for male rows\n",
        "  male_age_ranges =  # problem 4, fill this in\n",
        "  counts_male = male_age_ranges.value_counts()[age_range_labels]\n",
        "\n",
        "  # create plot\n",
        "  fig, ax = plt.subplots(figsize=(20, 10))\n",
        "  index = np.arange(len(age_ranges))\n",
        "  bar_width = 0.35\n",
        "  opacity = 0.8\n",
        "\n",
        "  # the bar function draws a bar plot, the first two arugments are the x position of the bar, and its height\n",
        "  rects1 = plt.bar(, , bar_width, # problem 4, fill in first two arguments\n",
        "                  alpha=opacity,color='b',label='Male')\n",
        "\n",
        "  rects2 = plt.bar(, , bar_width, # problem 4, fill in first two arguments hint: you have to use the bar_width in the first argument\n",
        "                  alpha=opacity,color='g',label='Female')\n",
        "\n",
        "  plt.xlabel('Age Range')\n",
        "  plt.ylabel('Count')\n",
        "  plt.title('Corona Cases per Age Group')\n",
        "  #plt.xticks(index + bar_width, age_ranges)\n",
        "  plt.xticks(index, [\"[\"+str(x[0])+\",\"+str(x[1])+\")\" for x in age_ranges])\n",
        "  plt.legend()\n",
        "\n",
        "  plt.tight_layout()\n",
        "  return counts_female, counts_male\n"
      ],
      "execution_count": null,
      "outputs": []
    },
    {
      "cell_type": "markdown",
      "metadata": {
        "id": "T7K9P6pEUuYg"
      },
      "source": [
        "Now let's run our visualization."
      ]
    },
    {
      "cell_type": "code",
      "metadata": {
        "id": "Yrb-RNu7Uv4N"
      },
      "source": [
        "cnts_f, cnts_m = create_bar_plot_by_sex(covid19_data, age_ranges)"
      ],
      "execution_count": null,
      "outputs": []
    },
    {
      "cell_type": "markdown",
      "metadata": {
        "id": "OjZZMKn0zf2U"
      },
      "source": [
        "Let's view the COVID-19 cases by country. The relevant column name is \"country\"."
      ]
    },
    {
      "cell_type": "code",
      "metadata": {
        "id": "jsGY1GsGZuVa"
      },
      "source": [
        "# distribution of cases by country\n",
        "def create_bar_plot_by_country(covid19_data):\n",
        "  country_cnts = covid19_data.country.value_counts()\n",
        "\n",
        "  n_groups = len(country_cnts)\n",
        "  counts = country_cnts\n",
        "\n",
        "  # create plot\n",
        "  fig, ax = plt.subplots(figsize=(20, 10))\n",
        "  index = np.arange(n_groups)\n",
        "  bar_width = 0.35\n",
        "  opacity = 0.8\n",
        "\n",
        "  rects1 = plt.bar(index, counts, bar_width,\n",
        "                  alpha=opacity,color='b')\n",
        "\n",
        "  plt.xlabel('Country')\n",
        "  plt.ylabel('Count')\n",
        "  plt.title('Corona Cases per Country')\n",
        "  #plt.xticks(index + bar_width, age_ranges)\n",
        "  plt.xticks(index, country_cnts.index.values)\n",
        "  plt.legend()\n",
        "\n",
        "  plt.tight_layout()\n",
        "  return n_groups, counts\n",
        "ngrps, cnts = create_bar_plot_by_country(covid19_data)"
      ],
      "execution_count": null,
      "outputs": []
    },
    {
      "cell_type": "markdown",
      "metadata": {
        "id": "N5BhvrWu3OGX"
      },
      "source": [
        "This is difficult to interpret due to the squashed x-axis.\n",
        "\n",
        "**Problem 5)** Print the same bar plot by country, but limit the plot to countries that have >1000 cases."
      ]
    },
    {
      "cell_type": "code",
      "metadata": {
        "id": "mBdkfYAIdY6t"
      },
      "source": [
        "# distribution of cases by country with >1000 cases\n",
        "# Problem 5) Complete where we have indicated below\n",
        "def create_bar_plot_by_country(covid19_data):\n",
        "  country_cnts = covid19_data.country.value_counts()\n",
        "\n",
        "  # get the counts for countries with >1000 cases, this should be a data series\n",
        "  counts =  # Problem 5, fill this in\n",
        "  # get number of countries with >1000 cases, this should be an integer\n",
        "  n_groups = # Problem 5, fill this in\n",
        "\n",
        "  # create plot\n",
        "  fig, ax = plt.subplots(figsize=(20, 10))\n",
        "  index = np.arange(n_groups)\n",
        "  bar_width = 0.35\n",
        "  opacity = 0.8\n",
        "\n",
        "  rects1 = plt.bar(index, counts, bar_width,\n",
        "                  alpha=opacity,color='b')\n",
        "\n",
        "  plt.xlabel('Country')\n",
        "  plt.ylabel('Count')\n",
        "  plt.title('Corona Cases per Country')\n",
        "  plt.xticks(index, ) # Problem 5, fill this in\n",
        "  plt.legend()\n",
        "\n",
        "  plt.tight_layout()\n",
        "  return n_groups, counts\n"
      ],
      "execution_count": null,
      "outputs": []
    },
    {
      "cell_type": "markdown",
      "metadata": {
        "id": "_k17AqYnUow9"
      },
      "source": [
        "Now let's run our visualization."
      ]
    },
    {
      "cell_type": "code",
      "metadata": {
        "id": "lvX7rQSKUqV_"
      },
      "source": [
        "ngrps, cnts = create_bar_plot_by_country(covid19_data)"
      ],
      "execution_count": null,
      "outputs": []
    },
    {
      "cell_type": "markdown",
      "metadata": {
        "id": "qWIpbmEI4ZqR"
      },
      "source": [
        "Perhaps a more interesting visualization is to view the COVID-19 cases on the world map. To do this, we will make use of another very useful data frame function is ```groupby()```. The ```groupby()``` method groups our data rows by a specific columns or column values. Here we group our data by their rounded latitude, longitude, and country. We then count the IDs which gives us the number of cases in a latitude-longitude region."
      ]
    },
    {
      "cell_type": "code",
      "metadata": {
        "id": "pcJKmOpt17NY"
      },
      "source": [
        "map_intensities = covid19_data.groupby([covid19_data.latitude.round(1),\n",
        "                                        covid19_data.longitude.round(1),\n",
        "                                        covid19_data.country]).ID.count().reset_index()"
      ],
      "execution_count": null,
      "outputs": []
    },
    {
      "cell_type": "markdown",
      "metadata": {
        "id": "VuW1HSEhgFJJ"
      },
      "source": [
        "Now let's plot the cases across the globe using cartopy. Try to play around with the various parameters to get an idea of what they all do!"
      ]
    },
    {
      "cell_type": "code",
      "metadata": {
        "id": "fJZJ81otxQ7Z"
      },
      "source": [
        "# set the colors for countries\n",
        "map_intensities['labels_enc'] = pd.factorize(map_intensities['country'])[0]\n",
        "\n",
        "fig = plt.figure(figsize=(10,8))\n",
        "\n",
        "ax = fig.add_subplot(1,1,1, projection=ccrs.Robinson())\n",
        "\n",
        "ax.set_global()\n",
        "\n",
        "ax.add_feature(cfeature.COASTLINE, edgecolor=\"tomato\")\n",
        "ax.add_feature(cfeature.BORDERS, edgecolor=\"tomato\")\n",
        "ax.gridlines()\n",
        "\n",
        "plt.scatter(x=map_intensities['longitude'], y= map_intensities['latitude'],\n",
        "            s=map_intensities['ID']/10,\n",
        "            c=map_intensities['labels_enc'],\n",
        "            cmap=\"Set1\",\n",
        "            alpha=0.4,\n",
        "            transform=ccrs.PlateCarree())\n"
      ],
      "execution_count": null,
      "outputs": []
    },
    {
      "cell_type": "markdown",
      "metadata": {
        "id": "Y6OpAAe4Fx3y"
      },
      "source": [
        "We see hotspots in the northeast USA (centered around NYC), the Iberian Peninsula, the U.K., China, Iran, and South Korea. Given recent news articles, we also notice that there is some underreporting in our data. We do not have the statistical language to formulate our questions as formal statisical hypotheses, but we can produce plots that support a particular interpretation of each hypothesis. We consider our first hypothesis:\n",
        "\n",
        "**Are mortality rates correlated with age?**\n",
        "\n",
        "First we need to clean and subset our data. We count the outcomes."
      ]
    },
    {
      "cell_type": "code",
      "metadata": {
        "id": "CYMp1m8-V6Mg"
      },
      "source": [
        "print(covid19_data['outcome'].value_counts())"
      ],
      "execution_count": null,
      "outputs": []
    },
    {
      "cell_type": "markdown",
      "metadata": {
        "id": "3aKyH4WpIq8i"
      },
      "source": [
        "From these results, we can see that there really is not enough data to draw definitive statistically robust conclusions. We can still do our analysis in anticipation that the data will be updated as the disease progresses. Let's group our outcomes into positive and negative classes."
      ]
    },
    {
      "cell_type": "code",
      "metadata": {
        "id": "7c-6vaDdV6jo"
      },
      "source": [
        "pos=['discharge','stable','discharged','recovered','stable condition','Alive','Stable','released from quarantine','Recovered','Discharged from hospital','Discharged']\n",
        "neg=['died','death','Dead','severe','critical condition, intubated as of 14.02.2020','dead','Death','Deceased','severe illness','unstable','Died','Critical condition']\n",
        "\n",
        "def setOutcomeClass(outcome):\n",
        "  if outcome in pos:\n",
        "    return 1\n",
        "  elif outcome in neg:\n",
        "    return 0\n",
        "  else:\n",
        "    return np.nan\n",
        "\n",
        "covid19_data['outcome_class'] = covid19_data.apply(lambda row : setOutcomeClass(row['outcome']), axis = 1)"
      ],
      "execution_count": null,
      "outputs": []
    },
    {
      "cell_type": "markdown",
      "metadata": {
        "id": "3Zjrz4ha53N5"
      },
      "source": [
        "Now let's create a different type of plot, a line graph. Here we want to visualize patterns of case severity across age groups, but each age group can have a different number of samples. Therefore, we compute an empirical probability of a positive outcome but also include $\\pm$ 1 standard deviation. We also include Spearman's correlation on the plot."
      ]
    },
    {
      "cell_type": "code",
      "metadata": {
        "id": "rM_5hZhWN-vS"
      },
      "source": [
        "# subset the data by age range and outcome class, then group by age range,\n",
        "# and use the agg (aggregate) function to compute the mean, count, and\n",
        "# standard deviation by age group\n",
        "outcomes_per_age = covid19_data[['age_range','outcome_class']].groupby(['age_range']).agg(['mean','count','std']).reset_index()\n",
        "x = outcomes_per_age.age_range\n",
        "y = outcomes_per_age.outcome_class['mean']\n",
        "error = outcomes_per_age.outcome_class['std']\n",
        "\n",
        "fig, ax = plt.subplots(figsize=(20, 10))\n",
        "ax.errorbar(x, y, yerr=error, fmt='-o')\n",
        "plt.ylabel('Relative Frequency', fontsize=14)\n",
        "plt.xlabel('Age Group', fontsize=14)\n",
        "\n",
        "fig.text(0.2,0.2,\"spearman correlation = \" + str(covid19_data['age_range'].corr(covid19_data['outcome'],method='spearman')), fontsize=14)\n"
      ],
      "execution_count": null,
      "outputs": []
    },
    {
      "cell_type": "markdown",
      "metadata": {
        "id": "okMmnlTT7XPw"
      },
      "source": [
        "The visualization shows that the older the individual, the more likely the negative outcome. Spearman's negative correlation confirms this.\n",
        "\n",
        "**Problem 6)** Professor Derek is worried about outcomes over time for his age bracket (30-40). He wants you to plot the relative frequency of positive outcomes (y-axis) over time (x-axis) while also including 1 standard deviation above and below each point. You should not compute Spearman's correlation here. Fill in the function below.\n"
      ]
    },
    {
      "cell_type": "code",
      "metadata": {
        "id": "1mbj0t9u67VE"
      },
      "source": [
        "# Problem 6) Complete where we have indicated below\n",
        "def create_bar_plot_for_derek(covid19_data):\n",
        "  # first we subset the data by the appropriate age bracket and do a bit of cleaning\n",
        "  prof_age_data = covid19_data[covid19_data.age_range==\"30-40\"]\n",
        "  prof_age_data=prof_age_data.replace(to_replace='25.02.2020 - 26.02.2020',value='25.02.2020')\n",
        "\n",
        "  # and we convert the column to a date-time\n",
        "  prof_age_data['date_confirmation']=pd.to_datetime(prof_age_data['date_confirmation'],dayfirst=True)\n",
        "\n",
        "  outcomes_over_time =  # Problem 6) fill in here\n",
        "\n",
        "  outcomes_over_time = outcomes_over_time.dropna() # we should drop the rows with missing values\n",
        "\n",
        "  x =  # Problem 6) fill in here\n",
        "  y =  # Problem 6) fill in here\n",
        "  error =  # Problem 6) fill in here\n",
        "\n",
        "  fig, ax = plt.subplots(figsize=(20, 10))\n",
        "  ax.errorbar(x, y, yerr=error, fmt='-o')\n",
        "  plt.ylabel('Relative Frequency', fontsize=14)\n",
        "  plt.xlabel('Date', fontsize=14)\n",
        "  return x, y, error\n"
      ],
      "execution_count": null,
      "outputs": []
    },
    {
      "cell_type": "markdown",
      "metadata": {
        "id": "771eA4ecUc4M"
      },
      "source": [
        "Now let's run our visualization."
      ]
    },
    {
      "cell_type": "code",
      "metadata": {
        "id": "mZI7k_tGUcU0"
      },
      "source": [
        "x,y,error = create_bar_plot_for_derek(covid19_data)"
      ],
      "execution_count": null,
      "outputs": []
    },
    {
      "cell_type": "markdown",
      "metadata": {
        "id": "u1aCgyE0u-Mb"
      },
      "source": [
        "Let's move on to our last hypothesis.\n",
        "\n",
        "**Are reported cases of COVID-19 more prevalant in colder climates?**\n",
        "\n",
        "Here we use the absolute value of the latitude as a proxy for temperature."
      ]
    },
    {
      "cell_type": "code",
      "metadata": {
        "id": "4ABTEAt24BIs"
      },
      "source": [
        "# latitude data ranges from -90 (south pole) to 90 (north pole)\n",
        "print(covid19_data['latitude'].describe())"
      ],
      "execution_count": null,
      "outputs": []
    },
    {
      "cell_type": "code",
      "metadata": {
        "id": "IxKQejkxQCg0"
      },
      "source": [
        "fig, ax = plt.subplots(figsize=(20, 10))\n",
        "\n",
        "num_bins = 90\n",
        "\n",
        "# the histogram of the data\n",
        "ax.hist(abs(covid19_data['latitude']), num_bins, density=1,alpha=0.3)\n",
        "plt.ylabel('Density', fontsize=14)\n",
        "plt.xlabel('Absolute Latitude Degree', fontsize=14)\n"
      ],
      "execution_count": null,
      "outputs": []
    },
    {
      "cell_type": "markdown",
      "metadata": {
        "id": "CqIfte7KCrW6"
      },
      "source": [
        "This is an interesting plot, but what if most people in the world live between latitudes 20 and 60? We would expect there to be more infections here. Let's also plot the density of individuals across the global at each latitude."
      ]
    },
    {
      "cell_type": "code",
      "metadata": {
        "id": "OxoTi0-ZcAOV"
      },
      "source": [
        "# I downloaded and prepared the data for you.\n",
        "population_data_url = requests.get('https://drive.google.com/uc?export=download&id=19BjvYrh_MkzE2NMJBOSJzJUaXaw3S85X')\n",
        "population_csv = StringIO(population_data_url.text)\n",
        "population_data = pd.read_csv(population_csv, delimiter=\" \", header=None)\n",
        "abs_latitude=np.linspace(0,90,360)\n",
        "\n",
        "# population data goes from 90 degrees to -90 degrees in increments of 0.25 degrees\n",
        "lat_sums=np.sum(population_data,axis=1)\n",
        "lat_by_degree = lat_sums.groupby(np.arange(len(lat_sums))//4).sum()\n",
        "population_sums = lat_by_degree.groupby(np.concatenate((np.arange(0,len(lat_by_degree)/2),np.arange(0,len(lat_by_degree)/2)[::-1]))).sum()\n",
        "\n",
        "fig, ax = plt.subplots(figsize=(20, 10))\n",
        "\n",
        "num_bins = 90\n",
        "\n",
        "# the histogram of the data\n",
        "ax.hist(abs(covid19_data['latitude']), num_bins, density=1,alpha=0.3)\n",
        "ax.hist(range(num_bins)[::-1],bins=num_bins, density=1, weights=population_sums,alpha=0.3)\n",
        "plt.ylabel('Density', fontsize=14)\n",
        "plt.xlabel('Absolute Latitude Degree', fontsize=14)"
      ],
      "execution_count": null,
      "outputs": []
    },
    {
      "cell_type": "markdown",
      "metadata": {
        "id": "PeVmT0dBDFb2"
      },
      "source": [
        "We see that there are a considerable number of people who live close to the equator (latitude=0) so infections indeed are more prevalant in colder regions. Note that there are other factors in play here, such as, where the disease began and travel patterns."
      ]
    },
    {
      "cell_type": "code",
      "metadata": {
        "id": "4DiSe3Y7T_zb"
      },
      "source": [],
      "execution_count": null,
      "outputs": []
    }
  ]
}